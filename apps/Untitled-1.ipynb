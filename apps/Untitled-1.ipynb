{
 "cells": [
  {
   "cell_type": "code",
   "execution_count": 4,
   "metadata": {},
   "outputs": [],
   "source": [
    "import streamlit as st\n",
    "from gcloud import storage\n",
    "from oauth2client.service_account import ServiceAccountCredentials\n",
    "from io import StringIO, BytesIO\n",
    "\n",
    "### Sharepoint - test\n",
    "sharepoint_url_path = 'https://ncbbank-my.sharepoint.com/:f:/g/' \n",
    "sharepoint_folder_path = 'personal/dungda_ncb-bank_vn/EheM5Epid2VOoSa2GDopprkB2o12xweJECL-r0OvPX2tDQ?e=xWnuxr'\n",
    "def save_data_to_sharepoint():\n",
    "    return 0\n",
    "import pandas as pd\n",
    "\n",
    "### Google Cloud Storage - prod\n",
    "project_name = 'ncb-app'\n",
    "bucket_name = st.secrets.connection.gcs.filesystem['bucket_name']\n",
    "TIN_filename = st.secrets.connection.gcs.filesystem['tin_data_file']\n",
    "XML_filename = st.secrets.connection.gcs.filesystem['xml_data_file']\n",
    "\n",
    "credentials_dict = {\n",
    "    'type': \"service_account\",\n",
    "    'client_id': st.secrets.connections.gcs.credential['client_id'],\n",
    "    'client_email': st.secrets.connections.gcs.credential['client_email'],\n",
    "    'private_key_id': st.secrets.connections.gcs.credential['private_key_id'],\n",
    "    'private_key': st.secrets.connections.gcs.credential['private_key']\n",
    "}\n",
    "credentials = ServiceAccountCredentials.from_json_keyfile_dict(\n",
    "    credentials_dict\n",
    ")\n",
    "\n",
    "client = storage.Client(credentials=credentials, project='ncb-app')\n",
    "bucket = client.bucket(bucket_name)\n",
    "\n",
    "def upload_data(data, file_name = '', method = 'overwrite', is_drop_duplicates = True):\n",
    "    blob = bucket.blob(file_name)\n",
    "    if method == 'overwrite':\n",
    "        blob.upload_from_file(data)\n",
    "        return f\"Successfull - {method} - {file_name}\"\n",
    "    elif method == 'append':\n",
    "        data = blob.download_as_bytes()\n",
    "        df_load = pd.read_csv(BytesIO(data))\n",
    "        df_append = pd.concat(df_load, data)\n",
    "        if is_drop_duplicates:\n",
    "            df_append.drop_duplicates(inplace=True)\n",
    "        blob.upload_from_file(df_append)\n",
    "        return f\"Successfull - {method} - {file_name}\"\n",
    "    else:\n",
    "        return \"Wrong method!\"\n",
    "    \n",
    "def download_data(file_name = ''):\n",
    "    blob = bucket.blob(file_name)\n",
    "    file_obj = BytesIO()\n",
    "    data = blob.download_to_file(file_obj)\n",
    "    df_load = pd.read_csv(data)\n",
    "    #df_load = pd.read_csv(BytesIO(data))\n",
    "    return df_load\n"
   ]
  },
  {
   "cell_type": "code",
   "execution_count": 7,
   "metadata": {},
   "outputs": [],
   "source": [
    "blob = bucket.blob(\"data_TIN.csv\")"
   ]
  },
  {
   "cell_type": "code",
   "execution_count": 17,
   "metadata": {},
   "outputs": [
    {
     "name": "stdout",
     "output_type": "stream",
     "text": [
      "Name: st-gsheets-connection\n",
      "Version: 0.0.4\n",
      "Summary: Streamlit Connection for Google Sheets.\n",
      "Home-page: https://github.com/streamlit/gsheets-connection\n",
      "Author: Tomasz Szerszeń\n",
      "Author-email: tomasz.szerszen@snowflake.com\n",
      "License: Apache License 2.0\n",
      "Location: c:\\Users\\user\\Desktop\\NCB_Probation\\xml_parser\\.venv\\Lib\\site-packages\n",
      "Requires: duckdb, gspread, gspread-dataframe, gspread-formatting, gspread-pandas, pandas, sql-metadata, streamlit, validators\n",
      "Required-by: \n"
     ]
    }
   ],
   "source": [
    "!pip show st-gsheets-connection"
   ]
  },
  {
   "cell_type": "code",
   "execution_count": 12,
   "metadata": {},
   "outputs": [],
   "source": [
    "json_data = blob.download_as_string()"
   ]
  },
  {
   "cell_type": "code",
   "execution_count": 17,
   "metadata": {},
   "outputs": [
    {
     "ename": "TypeError",
     "evalue": "a bytes-like object is required, not 'str'",
     "output_type": "error",
     "traceback": [
      "\u001b[1;31m---------------------------------------------------------------------------\u001b[0m",
      "\u001b[1;31mTypeError\u001b[0m                                 Traceback (most recent call last)",
      "Cell \u001b[1;32mIn[17], line 1\u001b[0m\n\u001b[1;32m----> 1\u001b[0m \u001b[43mjson_data\u001b[49m\u001b[38;5;241;43m.\u001b[39;49m\u001b[43msplit\u001b[49m\u001b[43m(\u001b[49m\u001b[38;5;124;43m\"\u001b[39;49m\u001b[38;5;130;43;01m\\n\u001b[39;49;00m\u001b[38;5;124;43m\"\u001b[39;49m\u001b[43m)\u001b[49m\n",
      "\u001b[1;31mTypeError\u001b[0m: a bytes-like object is required, not 'str'"
     ]
    }
   ],
   "source": [
    "json_data.split(\"\\n\")"
   ]
  },
  {
   "cell_type": "code",
   "execution_count": 9,
   "metadata": {},
   "outputs": [
    {
     "ename": "AttributeError",
     "evalue": "'Blob' object has no attribute 'open'",
     "output_type": "error",
     "traceback": [
      "\u001b[1;31m---------------------------------------------------------------------------\u001b[0m",
      "\u001b[1;31mAttributeError\u001b[0m                            Traceback (most recent call last)",
      "Cell \u001b[1;32mIn[9], line 1\u001b[0m\n\u001b[1;32m----> 1\u001b[0m \u001b[38;5;28;01mwith\u001b[39;00m \u001b[43mblob\u001b[49m\u001b[38;5;241;43m.\u001b[39;49m\u001b[43mopen\u001b[49m(\u001b[38;5;124m\"\u001b[39m\u001b[38;5;124mr\u001b[39m\u001b[38;5;124m\"\u001b[39m) \u001b[38;5;28;01mas\u001b[39;00m f:\n\u001b[0;32m      2\u001b[0m     \u001b[38;5;28mprint\u001b[39m(f\u001b[38;5;241m.\u001b[39mread())\n",
      "\u001b[1;31mAttributeError\u001b[0m: 'Blob' object has no attribute 'open'"
     ]
    }
   ],
   "source": [
    "with blob.d(\"r\") as f:\n",
    "    print(f.read())"
   ]
  },
  {
   "cell_type": "code",
   "execution_count": 42,
   "metadata": {},
   "outputs": [],
   "source": [
    "from google.cloud import storage\n"
   ]
  },
  {
   "cell_type": "code",
   "execution_count": null,
   "metadata": {},
   "outputs": [],
   "source": []
  },
  {
   "cell_type": "code",
   "execution_count": null,
   "metadata": {},
   "outputs": [],
   "source": [
    "conn.update(data=)"
   ]
  },
  {
   "cell_type": "code",
   "execution_count": 8,
   "metadata": {},
   "outputs": [
    {
     "name": "stderr",
     "output_type": "stream",
     "text": [
      "2024-07-24 08:54:52.791 No runtime found, using MemoryCacheStorageManager\n"
     ]
    },
    {
     "name": "stdout",
     "output_type": "stream",
     "text": [
      "Pandas(Index=0, TIN=107816658)\n"
     ]
    }
   ],
   "source": [
    "import streamlit as st\n",
    "from streamlit_gsheets import GSheetsConnection\n",
    "\n",
    "# Create a connection object.\n",
    "conn = st.connection(\"gsheets\", type=GSheetsConnection)\n",
    "\n",
    "df = conn.read(worksheet=0)\n",
    "# Print results.\n",
    "for row in df.itertuples():\n",
    "    print(row)\n",
    "    break"
   ]
  },
  {
   "cell_type": "code",
   "execution_count": 13,
   "metadata": {},
   "outputs": [],
   "source": [
    "import pandas as pd \n",
    "meta_data = {\n",
    "\"update_time\": 1,\n",
    "\"user\": 2,\n",
    "\"data_size\": 3\n",
    "}\n",
    "df_meta_data = pd.DataFrame(columns=meta_data.keys(), data=[list(meta_data.values())])"
   ]
  },
  {
   "cell_type": "code",
   "execution_count": 16,
   "metadata": {},
   "outputs": [
    {
     "name": "stderr",
     "output_type": "stream",
     "text": [
      "WARNING: Package(s) not found: streamlit_gsheets\n"
     ]
    }
   ],
   "source": [
    "!pip show streamlit_gsheets"
   ]
  },
  {
   "cell_type": "code",
   "execution_count": 14,
   "metadata": {},
   "outputs": [
    {
     "data": {
      "text/html": [
       "<div>\n",
       "<style scoped>\n",
       "    .dataframe tbody tr th:only-of-type {\n",
       "        vertical-align: middle;\n",
       "    }\n",
       "\n",
       "    .dataframe tbody tr th {\n",
       "        vertical-align: top;\n",
       "    }\n",
       "\n",
       "    .dataframe thead th {\n",
       "        text-align: right;\n",
       "    }\n",
       "</style>\n",
       "<table border=\"1\" class=\"dataframe\">\n",
       "  <thead>\n",
       "    <tr style=\"text-align: right;\">\n",
       "      <th></th>\n",
       "      <th>update_time</th>\n",
       "      <th>user</th>\n",
       "      <th>data_size</th>\n",
       "    </tr>\n",
       "  </thead>\n",
       "  <tbody>\n",
       "    <tr>\n",
       "      <th>0</th>\n",
       "      <td>1</td>\n",
       "      <td>2</td>\n",
       "      <td>3</td>\n",
       "    </tr>\n",
       "  </tbody>\n",
       "</table>\n",
       "</div>"
      ],
      "text/plain": [
       "   update_time  user  data_size\n",
       "0            1     2          3"
      ]
     },
     "execution_count": 14,
     "metadata": {},
     "output_type": "execute_result"
    }
   ],
   "source": [
    "df_meta_data"
   ]
  },
  {
   "cell_type": "code",
   "execution_count": 10,
   "metadata": {},
   "outputs": [
    {
     "name": "stderr",
     "output_type": "stream",
     "text": [
      "2024-07-24 08:55:11.181 No runtime found, using MemoryCacheStorageManager\n"
     ]
    },
    {
     "data": {
      "text/html": [
       "<div>\n",
       "<style scoped>\n",
       "    .dataframe tbody tr th:only-of-type {\n",
       "        vertical-align: middle;\n",
       "    }\n",
       "\n",
       "    .dataframe tbody tr th {\n",
       "        vertical-align: top;\n",
       "    }\n",
       "\n",
       "    .dataframe thead th {\n",
       "        text-align: right;\n",
       "    }\n",
       "</style>\n",
       "<table border=\"1\" class=\"dataframe\">\n",
       "  <thead>\n",
       "    <tr style=\"text-align: right;\">\n",
       "      <th></th>\n",
       "      <th>Unnamed: 0</th>\n",
       "      <th>Unnamed: 1</th>\n",
       "      <th>Unnamed: 2</th>\n",
       "      <th>Unnamed: 3</th>\n",
       "      <th>Unnamed: 4</th>\n",
       "      <th>Unnamed: 5</th>\n",
       "      <th>Unnamed: 6</th>\n",
       "      <th>Unnamed: 7</th>\n",
       "      <th>Unnamed: 8</th>\n",
       "      <th>Unnamed: 9</th>\n",
       "      <th>Unnamed: 10</th>\n",
       "      <th>Unnamed: 11</th>\n",
       "      <th>Unnamed: 12</th>\n",
       "      <th>Unnamed: 13</th>\n",
       "      <th>Unnamed: 14</th>\n",
       "      <th>Unnamed: 15</th>\n",
       "      <th>Unnamed: 16</th>\n",
       "      <th>Unnamed: 17</th>\n",
       "    </tr>\n",
       "  </thead>\n",
       "  <tbody>\n",
       "    <tr>\n",
       "      <th>4</th>\n",
       "      <td>Tên file</td>\n",
       "      <td>Ký hiệu mẫu số hóa đơn</td>\n",
       "      <td>KH hóa đơn</td>\n",
       "      <td>Số hóa đơn</td>\n",
       "      <td>Ngày lập</td>\n",
       "      <td>Mã hiệu số</td>\n",
       "      <td>Tính chất hóa đơn</td>\n",
       "      <td>Tên người bán</td>\n",
       "      <td>Mã số thuế người bán</td>\n",
       "      <td>Tổng tiền (chưa có thuế GTGT)</td>\n",
       "      <td>Tổng tiền thuế GTGT</td>\n",
       "      <td>Tổng tiền thanh toán bằng số</td>\n",
       "      <td>Ký hiệu hóa đơn</td>\n",
       "      <td>DS Trốn thuế</td>\n",
       "      <td>Thiếu SHDon</td>\n",
       "      <td>Thiếu MHSo</td>\n",
       "      <td>Thời gian cập nhập</td>\n",
       "      <td>User cập nhập</td>\n",
       "    </tr>\n",
       "    <tr>\n",
       "      <th>5</th>\n",
       "      <td>1C24MTT_00001147.xml</td>\n",
       "      <td>1</td>\n",
       "      <td>C24MTT</td>\n",
       "      <td>1147</td>\n",
       "      <td>2024-05-17</td>\n",
       "      <td>NaN</td>\n",
       "      <td>Hóa đơn gốc</td>\n",
       "      <td>CHI NHÁNH CÔNG TY TNHH NHẤT LY</td>\n",
       "      <td>0200519875-001</td>\n",
       "      <td>489000</td>\n",
       "      <td>48900</td>\n",
       "      <td>537900</td>\n",
       "      <td>1C24MTT</td>\n",
       "      <td>False</td>\n",
       "      <td>False</td>\n",
       "      <td>True</td>\n",
       "      <td>2024-07-15 10:21:02</td>\n",
       "      <td>ncb_ketoannoibo</td>\n",
       "    </tr>\n",
       "    <tr>\n",
       "      <th>6</th>\n",
       "      <td>8113485575-C24TTV26.xml</td>\n",
       "      <td>2</td>\n",
       "      <td>C24TTV</td>\n",
       "      <td>26</td>\n",
       "      <td>2024-05-14</td>\n",
       "      <td>NaN</td>\n",
       "      <td>Hóa đơn gốc</td>\n",
       "      <td>HỘ KINH DOANH CƠ SỞ CƠ ĐIỆN LẠNH THANH VÂN</td>\n",
       "      <td>8113485575</td>\n",
       "      <td>NaN</td>\n",
       "      <td>NaN</td>\n",
       "      <td>150000</td>\n",
       "      <td>2C24TTV</td>\n",
       "      <td>False</td>\n",
       "      <td>False</td>\n",
       "      <td>True</td>\n",
       "      <td>2024-07-15 10:21:02</td>\n",
       "      <td>ncb_ketoannoibo</td>\n",
       "    </tr>\n",
       "    <tr>\n",
       "      <th>7</th>\n",
       "      <td>C24MHK-00011370-U9IMSEWIWP5-DPH.xml</td>\n",
       "      <td>1</td>\n",
       "      <td>C24MHK</td>\n",
       "      <td>11370</td>\n",
       "      <td>2024-04-11</td>\n",
       "      <td>NaN</td>\n",
       "      <td>Hóa đơn gốc</td>\n",
       "      <td>CÔNG TY CỔ PHẦN TAKAHIRO</td>\n",
       "      <td>315827587</td>\n",
       "      <td>4098000</td>\n",
       "      <td>327840</td>\n",
       "      <td>4425840</td>\n",
       "      <td>1C24MHK</td>\n",
       "      <td>False</td>\n",
       "      <td>False</td>\n",
       "      <td>True</td>\n",
       "      <td>2024-07-15 10:21:02</td>\n",
       "      <td>ncb_ketoannoibo</td>\n",
       "    </tr>\n",
       "    <tr>\n",
       "      <th>8</th>\n",
       "      <td>C24THB-00000232-VALWOLD7K64-DPH.xml</td>\n",
       "      <td>1</td>\n",
       "      <td>C24THB</td>\n",
       "      <td>232</td>\n",
       "      <td>2024-06-12</td>\n",
       "      <td>NaN</td>\n",
       "      <td>Hóa đơn gốc</td>\n",
       "      <td>CÔNG TY CỔ PHẦN QUẢN LÝ THƯƠNG MẠI DỊCH VỤ TỔN...</td>\n",
       "      <td>110215449</td>\n",
       "      <td>140694457</td>\n",
       "      <td>11255558</td>\n",
       "      <td>151950015</td>\n",
       "      <td>1C24THB</td>\n",
       "      <td>False</td>\n",
       "      <td>False</td>\n",
       "      <td>True</td>\n",
       "      <td>2024-07-15 10:21:02</td>\n",
       "      <td>ncb_ketoannoibo</td>\n",
       "    </tr>\n",
       "    <tr>\n",
       "      <th>9</th>\n",
       "      <td>1_001_K24TAA_2780_2017.xml</td>\n",
       "      <td>1</td>\n",
       "      <td>K24TAA</td>\n",
       "      <td>2780</td>\n",
       "      <td>2024-06-14</td>\n",
       "      <td>NaN</td>\n",
       "      <td>Hóa đơn gốc</td>\n",
       "      <td>NGÂN HÀNG THƯƠNG MẠI CỔ PHẦN QUỐC DÂN</td>\n",
       "      <td>1700169765</td>\n",
       "      <td>20000</td>\n",
       "      <td>2000</td>\n",
       "      <td>22000</td>\n",
       "      <td>1K24TAA</td>\n",
       "      <td>False</td>\n",
       "      <td>False</td>\n",
       "      <td>False</td>\n",
       "      <td>2024-07-15 10:21:41</td>\n",
       "      <td>ncb_ketoannoibo</td>\n",
       "    </tr>\n",
       "    <tr>\n",
       "      <th>10</th>\n",
       "      <td>C24MDA-00003370-T9TATD0I016-DPH.xml</td>\n",
       "      <td>1</td>\n",
       "      <td>C24MDA</td>\n",
       "      <td>3370</td>\n",
       "      <td>2024-04-27</td>\n",
       "      <td>NaN</td>\n",
       "      <td>Hóa đơn gốc</td>\n",
       "      <td>CÔNG TY TNHH ĐẦU TƯ XÂY DỰNG THƯƠNG MẠI DU LỊC...</td>\n",
       "      <td>107514336</td>\n",
       "      <td>3759200</td>\n",
       "      <td>302536</td>\n",
       "      <td>4061736</td>\n",
       "      <td>1C24MDA</td>\n",
       "      <td>False</td>\n",
       "      <td>False</td>\n",
       "      <td>True</td>\n",
       "      <td>2024-07-15 10:21:41</td>\n",
       "      <td>ncb_ketoannoibo</td>\n",
       "    </tr>\n",
       "    <tr>\n",
       "      <th>11</th>\n",
       "      <td>XML loi.xml</td>\n",
       "      <td>1</td>\n",
       "      <td>C24TLD</td>\n",
       "      <td>846</td>\n",
       "      <td>2024-07-10</td>\n",
       "      <td>NaN</td>\n",
       "      <td>Hóa đơn gốc</td>\n",
       "      <td>CÔNG TY TNHH THƯƠNG MẠI- DỊCH VỤ LÊ DUY</td>\n",
       "      <td>302698197</td>\n",
       "      <td>2777778</td>\n",
       "      <td>222222</td>\n",
       "      <td>3000000</td>\n",
       "      <td>1C24TLD</td>\n",
       "      <td>False</td>\n",
       "      <td>False</td>\n",
       "      <td>True</td>\n",
       "      <td>2024-07-15 10:21:41</td>\n",
       "      <td>ncb_ketoannoibo</td>\n",
       "    </tr>\n",
       "  </tbody>\n",
       "</table>\n",
       "</div>"
      ],
      "text/plain": [
       "                             Unnamed: 0              Unnamed: 1  Unnamed: 2  \\\n",
       "4                              Tên file  Ký hiệu mẫu số hóa đơn  KH hóa đơn   \n",
       "5                  1C24MTT_00001147.xml                       1      C24MTT   \n",
       "6               8113485575-C24TTV26.xml                       2      C24TTV   \n",
       "7   C24MHK-00011370-U9IMSEWIWP5-DPH.xml                       1      C24MHK   \n",
       "8   C24THB-00000232-VALWOLD7K64-DPH.xml                       1      C24THB   \n",
       "9            1_001_K24TAA_2780_2017.xml                       1      K24TAA   \n",
       "10  C24MDA-00003370-T9TATD0I016-DPH.xml                       1      C24MDA   \n",
       "11                          XML loi.xml                       1      C24TLD   \n",
       "\n",
       "    Unnamed: 3  Unnamed: 4  Unnamed: 5         Unnamed: 6  \\\n",
       "4   Số hóa đơn    Ngày lập  Mã hiệu số  Tính chất hóa đơn   \n",
       "5         1147  2024-05-17         NaN        Hóa đơn gốc   \n",
       "6           26  2024-05-14         NaN        Hóa đơn gốc   \n",
       "7        11370  2024-04-11         NaN        Hóa đơn gốc   \n",
       "8          232  2024-06-12         NaN        Hóa đơn gốc   \n",
       "9         2780  2024-06-14         NaN        Hóa đơn gốc   \n",
       "10        3370  2024-04-27         NaN        Hóa đơn gốc   \n",
       "11         846  2024-07-10         NaN        Hóa đơn gốc   \n",
       "\n",
       "                                           Unnamed: 7            Unnamed: 8  \\\n",
       "4                                       Tên người bán  Mã số thuế người bán   \n",
       "5                      CHI NHÁNH CÔNG TY TNHH NHẤT LY        0200519875-001   \n",
       "6          HỘ KINH DOANH CƠ SỞ CƠ ĐIỆN LẠNH THANH VÂN            8113485575   \n",
       "7                            CÔNG TY CỔ PHẦN TAKAHIRO             315827587   \n",
       "8   CÔNG TY CỔ PHẦN QUẢN LÝ THƯƠNG MẠI DỊCH VỤ TỔN...             110215449   \n",
       "9               NGÂN HÀNG THƯƠNG MẠI CỔ PHẦN QUỐC DÂN            1700169765   \n",
       "10  CÔNG TY TNHH ĐẦU TƯ XÂY DỰNG THƯƠNG MẠI DU LỊC...             107514336   \n",
       "11            CÔNG TY TNHH THƯƠNG MẠI- DỊCH VỤ LÊ DUY             302698197   \n",
       "\n",
       "                       Unnamed: 9          Unnamed: 10  \\\n",
       "4   Tổng tiền (chưa có thuế GTGT)  Tổng tiền thuế GTGT   \n",
       "5                          489000                48900   \n",
       "6                             NaN                  NaN   \n",
       "7                         4098000               327840   \n",
       "8                       140694457             11255558   \n",
       "9                           20000                 2000   \n",
       "10                        3759200               302536   \n",
       "11                        2777778               222222   \n",
       "\n",
       "                     Unnamed: 11      Unnamed: 12   Unnamed: 13  Unnamed: 14  \\\n",
       "4   Tổng tiền thanh toán bằng số  Ký hiệu hóa đơn  DS Trốn thuế  Thiếu SHDon   \n",
       "5                         537900          1C24MTT         False        False   \n",
       "6                         150000          2C24TTV         False        False   \n",
       "7                        4425840          1C24MHK         False        False   \n",
       "8                      151950015          1C24THB         False        False   \n",
       "9                          22000          1K24TAA         False        False   \n",
       "10                       4061736          1C24MDA         False        False   \n",
       "11                       3000000          1C24TLD         False        False   \n",
       "\n",
       "   Unnamed: 15          Unnamed: 16      Unnamed: 17  \n",
       "4   Thiếu MHSo   Thời gian cập nhập    User cập nhập  \n",
       "5         True  2024-07-15 10:21:02  ncb_ketoannoibo  \n",
       "6         True  2024-07-15 10:21:02  ncb_ketoannoibo  \n",
       "7         True  2024-07-15 10:21:02  ncb_ketoannoibo  \n",
       "8         True  2024-07-15 10:21:02  ncb_ketoannoibo  \n",
       "9        False  2024-07-15 10:21:41  ncb_ketoannoibo  \n",
       "10        True  2024-07-15 10:21:41  ncb_ketoannoibo  \n",
       "11        True  2024-07-15 10:21:41  ncb_ketoannoibo  "
      ]
     },
     "execution_count": 10,
     "metadata": {},
     "output_type": "execute_result"
    }
   ],
   "source": [
    "df = conn.read(worksheet=1)\n",
    "df"
   ]
  },
  {
   "cell_type": "code",
   "execution_count": null,
   "metadata": {},
   "outputs": [],
   "source": [
    "import os\n",
    "from office365.sharepoint.client_context import ClientContext\n",
    "from tests import test_user_credentials, test_team_site_url\n",
    "\n",
    "ctx = ClientContext(test_team_site_url).with_credentials(test_user_credentials)\n",
    "\n",
    "path = \"../../data/report #123.csv\" with open(path, 'rb') as content_file:\n",
    "    file_content = content_file.read()\n",
    "\n",
    "list_title = \"Documents\"target_folder = ctx.web.lists.get_by_title(list_title).root_folder\n",
    "name = os.path.basename(path)\n",
    "target_file = target_folder.upload_file(name, file_content).execute_query()print(\"File has been uploaded to url: {0}\".format(target_file.serverRelativeUrl))"
   ]
  }
 ],
 "metadata": {
  "kernelspec": {
   "display_name": ".venv",
   "language": "python",
   "name": "python3"
  },
  "language_info": {
   "codemirror_mode": {
    "name": "ipython",
    "version": 3
   },
   "file_extension": ".py",
   "mimetype": "text/x-python",
   "name": "python",
   "nbconvert_exporter": "python",
   "pygments_lexer": "ipython3",
   "version": "3.12.4"
  }
 },
 "nbformat": 4,
 "nbformat_minor": 2
}
